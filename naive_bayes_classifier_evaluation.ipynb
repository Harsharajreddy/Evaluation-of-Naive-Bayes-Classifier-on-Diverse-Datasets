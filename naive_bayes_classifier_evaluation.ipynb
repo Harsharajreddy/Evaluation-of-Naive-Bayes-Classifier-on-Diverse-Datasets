{
 "cells": [
  {
   "cell_type": "code",
   "execution_count": 18,
   "metadata": {
    "id": "-44Nl2hrdkjq"
   },
   "outputs": [],
   "source": [
    "#Importing all the libraries needed.\n",
    "import csv\n",
    "from math import sqrt, exp, pi\n",
    "from random import randrange\n",
    "import random\n",
    "import pandas as pd"
   ]
  },
  {
   "cell_type": "code",
   "execution_count": 19,
   "metadata": {
    "id": "HEW-eMH0vTLs"
   },
   "outputs": [],
   "source": [
    "#Taking the CSV file as input dataset.\n",
    "def opening_csv(file_path):\n",
    "    csv_file = []\n",
    "    with open(file_path, 'r') as file:\n",
    "        csv_reader = csv.reader(file)\n",
    "        for R in csv_reader:\n",
    "            csv_file.append(R)\n",
    "    return csv_file"
   ]
  },
  {
   "cell_type": "code",
   "execution_count": 20,
   "metadata": {
    "colab": {
     "base_uri": "https://localhost:8080/"
    },
    "id": "JPATYLn0x9Ma",
    "outputId": "df4b32af-3242-47bc-ce82-bca2a952aa11"
   },
   "outputs": [
    {
     "name": "stdout",
     "output_type": "stream",
     "text": [
      "    Name Hobby Age Educational level Marital status Class\n",
      "0     92     2   1                 1              2     1\n",
      "1     10     2   1                 3              2     2\n",
      "2     83     3   1                 4              1     3\n",
      "3     61     2   4                 2              2     3\n",
      "4    107     1   1                 3              4     3\n",
      "..   ...   ...  ..               ...            ...   ...\n",
      "127   44     1   1                 4              3     3\n",
      "128   40     2   1                 2              1     1\n",
      "129   90     1   2                 1              2     2\n",
      "130   21     1   2                 2              1     2\n",
      "131    9     3   1                 1              2     1\n",
      "\n",
      "[132 rows x 6 columns]\n",
      "     Buying Maintenance  Doors Persons Lug_boot Safety  Class\n",
      "0     vhigh       vhigh      2       2    small    low  unacc\n",
      "1     vhigh       vhigh      2       2    small    med  unacc\n",
      "2     vhigh       vhigh      2       2    small   high  unacc\n",
      "3     vhigh       vhigh      2       2      med    low  unacc\n",
      "4     vhigh       vhigh      2       2      med    med  unacc\n",
      "...     ...         ...    ...     ...      ...    ...    ...\n",
      "1723    low         low  5more    more      med    med   good\n",
      "1724    low         low  5more    more      med   high  vgood\n",
      "1725    low         low  5more    more      big    low  unacc\n",
      "1726    low         low  5more    more      big    med   good\n",
      "1727    low         low  5more    more      big   high  vgood\n",
      "\n",
      "[1728 rows x 7 columns]\n",
      "                 Irradiat    Age Menopause Tumor_size Inv_nodes Node_caps  \\\n",
      "0    no-recurrence-events  30-39   premeno      30-34       0-2        no   \n",
      "1    no-recurrence-events  40-49   premeno      20-24       0-2        no   \n",
      "2    no-recurrence-events  40-49   premeno      20-24       0-2        no   \n",
      "3    no-recurrence-events  60-69      ge40      15-19       0-2        no   \n",
      "4    no-recurrence-events  40-49   premeno        0-4       0-2        no   \n",
      "..                    ...    ...       ...        ...       ...       ...   \n",
      "281     recurrence-events  30-39   premeno      30-34       0-2        no   \n",
      "282     recurrence-events  30-39   premeno      20-24       0-2        no   \n",
      "283     recurrence-events  60-69      ge40      20-24       0-2        no   \n",
      "284     recurrence-events  40-49      ge40      30-34       3-5        no   \n",
      "285     recurrence-events  50-59      ge40      30-34       3-5        no   \n",
      "\n",
      "    Deg_malig Breast Breast_quad Class  \n",
      "0           3   left    left_low    no  \n",
      "1           2  right    right_up    no  \n",
      "2           2   left    left_low    no  \n",
      "3           2  right     left_up    no  \n",
      "4           2  right   right_low    no  \n",
      "..        ...    ...         ...   ...  \n",
      "281         2   left     left_up    no  \n",
      "282         3   left     left_up   yes  \n",
      "283         1  right     left_up    no  \n",
      "284         3   left    left_low    no  \n",
      "285         3   left    left_low    no  \n",
      "\n",
      "[286 rows x 10 columns]\n"
     ]
    }
   ],
   "source": [
    "def converting_to_df(my_list):\n",
    "\n",
    "  a=['Name', 'Hobby', 'Age', 'Educational level', 'Marital status', 'Class']\n",
    "  b=['Buying', 'Maintenance', 'Doors', 'Persons', 'Lug_boot', 'Safety', 'Class']\n",
    "  c=['Irradiat', 'Age', 'Menopause', 'Tumor_size', 'Inv_nodes', 'Node_caps', 'Deg_malig', 'Breast', 'Breast_quad', 'Class']\n",
    "  if my_list==hayes_roth_data:\n",
    "    df = pd.DataFrame(my_list,columns=a)\n",
    "    print(df)\n",
    "  elif my_list==car_data:\n",
    "    df = pd.DataFrame(my_list,columns=b)\n",
    "    print(df)\n",
    "  else:\n",
    "    df = pd.DataFrame(my_list,columns=c)\n",
    "    print(df)\n",
    "\n",
    "\n",
    "hayes_roth_data = opening_csv('hayes-roth.csv')\n",
    "car_data = opening_csv('car.csv')\n",
    "breast_cancer_data = opening_csv('breast-cancer.csv')\n",
    "\n",
    "converting_to_df(hayes_roth_data)\n",
    "converting_to_df(car_data)\n",
    "converting_to_df(breast_cancer_data)\n"
   ]
  },
  {
   "cell_type": "code",
   "execution_count": 21,
   "metadata": {
    "colab": {
     "base_uri": "https://localhost:8080/"
    },
    "id": "XZ9BJU9TZQWK",
    "outputId": "9a37b38f-4793-4da1-b912-162f43d9a338"
   },
   "outputs": [
    {
     "name": "stdout",
     "output_type": "stream",
     "text": [
      "Column 5 has 8 '?' values\n",
      "Column 8 has 1 '?' values\n"
     ]
    }
   ],
   "source": [
    "def check_null_nan(data):\n",
    "    num_cols = len(data[0])\n",
    "    for col in range(num_cols):\n",
    "        null_count = 0\n",
    "        nan_count = 0\n",
    "        q_count = 0\n",
    "        for row in data:\n",
    "            if row[col] is None:\n",
    "                null_count += 1\n",
    "            elif isinstance(row[col], float) and math.isnan(row[col]):\n",
    "                nan_count += 1\n",
    "            elif isinstance(row[col], str) and row[col] == \"?\":\n",
    "                q_count += 1\n",
    "        if null_count > 0:\n",
    "            print(f\"Column {col} has {null_count} null values\")\n",
    "        if nan_count > 0:\n",
    "            print(f\"Column {col} has {nan_count} NaN values\")\n",
    "        if q_count > 0:\n",
    "            print(f\"Column {col} has {q_count} '?' values\")\n",
    "\n",
    "\n",
    "for i in [hayes_roth_data,car_data,breast_cancer_data]:\n",
    "  check_null_nan(i)\n"
   ]
  },
  {
   "cell_type": "code",
   "execution_count": 22,
   "metadata": {
    "colab": {
     "base_uri": "https://localhost:8080/"
    },
    "id": "a16mHdQFvWtV",
    "outputId": "20f92d7c-0756-4202-e02a-e2f9559d3795"
   },
   "outputs": [
    {
     "name": "stdout",
     "output_type": "stream",
     "text": [
      "    Name Hobby Age Educational level Marital status Class\n",
      "0     92     2   1                 1              2     1\n",
      "1     10     2   1                 3              2     2\n",
      "2     83     3   1                 4              1     3\n",
      "3     61     2   4                 2              2     3\n",
      "4    107     1   1                 3              4     3\n",
      "..   ...   ...  ..               ...            ...   ...\n",
      "127   44     1   1                 4              3     3\n",
      "128   40     2   1                 2              1     1\n",
      "129   90     1   2                 1              2     2\n",
      "130   21     1   2                 2              1     2\n",
      "131    9     3   1                 1              2     1\n",
      "\n",
      "[132 rows x 6 columns]\n",
      "     Buying Maintenance  Doors Persons Lug_boot Safety  Class\n",
      "0     vhigh       vhigh      2       2    small    low  unacc\n",
      "1     vhigh       vhigh      2       2    small    med  unacc\n",
      "2     vhigh       vhigh      2       2    small   high  unacc\n",
      "3     vhigh       vhigh      2       2      med    low  unacc\n",
      "4     vhigh       vhigh      2       2      med    med  unacc\n",
      "...     ...         ...    ...     ...      ...    ...    ...\n",
      "1723    low         low  5more    more      med    med   good\n",
      "1724    low         low  5more    more      med   high  vgood\n",
      "1725    low         low  5more    more      big    low  unacc\n",
      "1726    low         low  5more    more      big    med   good\n",
      "1727    low         low  5more    more      big   high  vgood\n",
      "\n",
      "[1728 rows x 7 columns]\n",
      "                 Irradiat    Age Menopause Tumor_size Inv_nodes Node_caps  \\\n",
      "0    no-recurrence-events  30-39   premeno      30-34       0-2        no   \n",
      "1    no-recurrence-events  40-49   premeno      20-24       0-2        no   \n",
      "2    no-recurrence-events  40-49   premeno      20-24       0-2        no   \n",
      "3    no-recurrence-events  60-69      ge40      15-19       0-2        no   \n",
      "4    no-recurrence-events  40-49   premeno        0-4       0-2        no   \n",
      "..                    ...    ...       ...        ...       ...       ...   \n",
      "272     recurrence-events  30-39   premeno      30-34       0-2        no   \n",
      "273     recurrence-events  30-39   premeno      20-24       0-2        no   \n",
      "274     recurrence-events  60-69      ge40      20-24       0-2        no   \n",
      "275     recurrence-events  40-49      ge40      30-34       3-5        no   \n",
      "276     recurrence-events  50-59      ge40      30-34       3-5        no   \n",
      "\n",
      "    Deg_malig Breast Breast_quad Class  \n",
      "0           3   left    left_low    no  \n",
      "1           2  right    right_up    no  \n",
      "2           2   left    left_low    no  \n",
      "3           2  right     left_up    no  \n",
      "4           2  right   right_low    no  \n",
      "..        ...    ...         ...   ...  \n",
      "272         2   left     left_up    no  \n",
      "273         3   left     left_up   yes  \n",
      "274         1  right     left_up    no  \n",
      "275         3   left    left_low    no  \n",
      "276         3   left    left_low    no  \n",
      "\n",
      "[277 rows x 10 columns]\n"
     ]
    }
   ],
   "source": [
    "def drop_rows_with_null_or_missing_values(csv_file):\n",
    "    new_csv_file = []\n",
    "    for R in csv_file:\n",
    "        if None in R or '?' in R:\n",
    "            continue\n",
    "        new_csv_file.append(R)\n",
    "    return new_csv_file\n",
    "\n",
    "\n",
    "# Drop rows with null or missing values\n",
    "hayes_roth_data=drop_rows_with_null_or_missing_values(hayes_roth_data)\n",
    "car_data=drop_rows_with_null_or_missing_values(car_data)\n",
    "breast_cancer_data = drop_rows_with_null_or_missing_values(breast_cancer_data)\n",
    "\n",
    "\n",
    "converting_to_df(hayes_roth_data)\n",
    "converting_to_df(car_data)\n",
    "converting_to_df(breast_cancer_data)"
   ]
  },
  {
   "cell_type": "code",
   "execution_count": 23,
   "metadata": {
    "id": "Y0BdBbUB0qiG"
   },
   "outputs": [],
   "source": [
    "for i in [hayes_roth_data,car_data,breast_cancer_data]:\n",
    "  check_null_nan(i)"
   ]
  },
  {
   "cell_type": "code",
   "execution_count": 24,
   "metadata": {
    "colab": {
     "base_uri": "https://localhost:8080/"
    },
    "id": "jHJc3ZWYVrUk",
    "outputId": "67103686-0994-419b-c93b-19cf4f76d6f2"
   },
   "outputs": [
    {
     "name": "stdout",
     "output_type": "stream",
     "text": [
      "    Name Hobby Age Educational level Marital status Class\n",
      "0     92     2   1                 1              2     1\n",
      "1     10     2   1                 3              2     2\n",
      "2     83     3   1                 4              1     3\n",
      "3     61     2   4                 2              2     3\n",
      "4    107     1   1                 3              4     3\n",
      "..   ...   ...  ..               ...            ...   ...\n",
      "127   44     1   1                 4              3     3\n",
      "128   40     2   1                 2              1     1\n",
      "129   90     1   2                 1              2     2\n",
      "130   21     1   2                 2              1     2\n",
      "131    9     3   1                 1              2     1\n",
      "\n",
      "[132 rows x 6 columns]\n",
      "      Buying  Maintenance  Doors  Persons  Lug_boot  Safety  Class\n",
      "0          3            3      0        0         0       0      0\n",
      "1          3            3      0        0         0       1      0\n",
      "2          3            3      0        0         0       2      0\n",
      "3          3            3      0        0         1       0      0\n",
      "4          3            3      0        0         1       1      0\n",
      "...      ...          ...    ...      ...       ...     ...    ...\n",
      "1723       0            0      3        2         1       1      2\n",
      "1724       0            0      3        2         1       2      3\n",
      "1725       0            0      3        2         2       0      0\n",
      "1726       0            0      3        2         2       1      2\n",
      "1727       0            0      3        2         2       2      3\n",
      "\n",
      "[1728 rows x 7 columns]\n",
      "     Irradiat  Age  Menopause  Tumor_size  Inv_nodes  Node_caps  Deg_malig  \\\n",
      "0           0    2          2           6          0          1          2   \n",
      "1           0    3          2           4          0          1          1   \n",
      "2           0    3          2           4          0          1          1   \n",
      "3           0    5          1           3          0          1          1   \n",
      "4           0    3          2           0          0          1          1   \n",
      "..        ...  ...        ...         ...        ...        ...        ...   \n",
      "272         1    2          2           6          0          1          1   \n",
      "273         1    2          2           4          0          1          2   \n",
      "274         1    5          1           4          0          1          0   \n",
      "275         1    3          1           6          1          1          2   \n",
      "276         1    4          1           6          1          1          2   \n",
      "\n",
      "     Breast  Breast_quad  Class  \n",
      "0         0            1      1  \n",
      "1         1            2      1  \n",
      "2         0            1      1  \n",
      "3         1            0      1  \n",
      "4         1            3      1  \n",
      "..      ...          ...    ...  \n",
      "272       0            0      1  \n",
      "273       0            0      0  \n",
      "274       1            0      1  \n",
      "275       0            1      1  \n",
      "276       0            1      1  \n",
      "\n",
      "[277 rows x 10 columns]\n"
     ]
    }
   ],
   "source": [
    "\n",
    "def mapping_data3(csv_file):\n",
    "    Age = dict([('10-19', 0), ('20-29', 1), ('30-39', 2), ('40-49', 3), ('50-59', 4), ('60-69', 5), ('70-79', 6), ('80-89', 7), ('90-99', 8)])\n",
    "    Menopause = dict([('lt40', 0), ('ge40', 1), ('premeno', 2)])\n",
    "    Tumor_size = dict([('0-4', 0), ('5-9', 1), ('10-14', 2), ('15-19', 3), ('20-24', 4), ('25-29', 5), ('30-34', 6), ('35-39', 7), ('40-44', 8), ('45-49', 9), ('50-54', 10), ('55-59', 11)])\n",
    "    INV_nodes = dict([('0-2', 0), ('3-5', 1), ('6-8', 2), ('9-11', 3), ('12-14', 4), ('15-17', 5), ('18-20', 6), ('21-23', 7), ('24-26', 8), ('27-29', 9), ('30-32', 10), ('33-35', 11), ('36-39', 12)])\n",
    "    Node_caps = dict([('yes', 0), ('no', 1)])\n",
    "    Deg_malig = dict([('1', 0), ('2', 1), ('3', 2)])\n",
    "    Breast = dict([('left', 0), ('right', 1)])\n",
    "    Breast_quad = dict([('left_up', 0),('left_low', 1),('right_up', 2),('right_low', 3),('central', 4)])\n",
    "    Irradiat = dict([('yes', 0), ('no', 1)])\n",
    "    class_value = dict([('no-recurrence-events', 0), ('recurrence-events', 1)])\n",
    "    \n",
    "    for title in csv_file:\n",
    "        if title[0] in class_value:\n",
    "            title[0] = class_value[title[0]]\n",
    "            title[1] = Age[title[1]]\n",
    "            title[2] = Menopause[title[2]]\n",
    "            title[3] = Tumor_size[title[3]]\n",
    "            title[4] = INV_nodes[title[4]]\n",
    "            title[5] = Node_caps[title[5]]\n",
    "            title[6] = Deg_malig[title[6]]\n",
    "            title[7] = Breast[title[7]]\n",
    "            title[8] = Breast_quad[title[8]]\n",
    "            title[9] = Irradiat[title[9]]\n",
    "        else:\n",
    "            # handle missing or unknown values in some way\n",
    "            pass\n",
    "        \n",
    "    return csv_file\n",
    "\n",
    "def mapping_data2(csv_file):\n",
    "    buying = {'low': 0, 'med': 1, 'high': 2, 'vhigh': 3}\n",
    "    maint = {'low': 0, 'med': 1, 'high': 2, 'vhigh': 3}\n",
    "    doors = {'2': 0, '3': 1, '4': 2, '5more': 3}\n",
    "    persons = {'2': 0, '4': 1, 'more': 2}\n",
    "    lug_boot = {'small': 0, 'med': 1, 'big': 2}\n",
    "    safety = {'low': 0, 'med': 1, 'high': 2}\n",
    "    class_value = {'unacc': 0, 'acc': 1, 'good': 2, 'vgood': 3}\n",
    "\n",
    "    for header in csv_file:\n",
    "        header[0] = buying[header[0]]\n",
    "        header[1] = maint[header[1]]\n",
    "        header[2] = doors[header[2]]\n",
    "        header[3] = persons[header[3]]\n",
    "        header[4] = lug_boot[header[4]]\n",
    "        header[5] = safety[header[5]]\n",
    "        header[6] = class_value[header[6]]\n",
    "\n",
    "    return csv_file\n",
    "breast_cancer_data = mapping_data3(breast_cancer_data)\n",
    "car_data = mapping_data2(car_data)\n",
    "converting_to_df(hayes_roth_data)\n",
    "converting_to_df(car_data)\n",
    "converting_to_df(breast_cancer_data)"
   ]
  },
  {
   "cell_type": "code",
   "execution_count": 25,
   "metadata": {
    "id": "1ccYX2nVdq_v"
   },
   "outputs": [],
   "source": [
    "\n",
    "# Convert all columns of a csv_file to integers\n",
    "def col_to_int(csv_file):\n",
    "    for cell in csv_file:\n",
    "        for _ in range(len(cell)):\n",
    "            cell[_] = int(cell[_])\n",
    "    return csv_file\n",
    "\n",
    "# Move the class label column to the last column of the csv_file\n",
    "def class_to_last(csv_file):\n",
    "    for class_col in csv_file:\n",
    "        class_value = class_col.pop(0)\n",
    "        class_col.append(class_value)\n",
    "    return csv_file\n",
    "\n",
    "# Split a csv_file into separate dictionaries by class label\n",
    "def dividing_class_value(csv_file):\n",
    "    divided_data = {}\n",
    "    for new in csv_file:\n",
    "        class_value = new[-1]\n",
    "        divided_data.setdefault(class_value, []).append(new)\n",
    "    return divided_data\n",
    "\n",
    "# Calculate the mean of a list of numbers\n",
    "def mean(data):\n",
    "    total = 0\n",
    "    count = 0\n",
    "    for num in data:\n",
    "        total += num\n",
    "        count += 1\n",
    "    return total / count\n",
    "\n",
    "# Calculate the standard deviation of a list of numbers\n",
    "def standard_deviation(data):\n",
    "    avg = mean(data)\n",
    "    variance = 0\n",
    "    count = 0\n",
    "    for num in data:\n",
    "        variance += (num - avg) ** 2\n",
    "        count += 1\n",
    "    variance /= (count - 1)\n",
    "    return variance ** 0.5\n",
    "\n",
    "# Calculate the mean, standard_deviation and count for each column in a csv_file\n",
    "def mean_std_cal(csv_file):\n",
    "    lis = []\n",
    "    for i in range(len(csv_file[0]) - 1):\n",
    "        cell_data = [c[i] for c in csv_file]\n",
    "        col_mean = mean(cell_data)\n",
    "        col_standard_deviation = standard_deviation(cell_data)\n",
    "        col_count = len(cell_data)\n",
    "        lis.append((col_mean, col_standard_deviation, col_count))\n",
    "    return lis\n",
    "\n",
    "# Summarize the data by class label and each column\n",
    "def dict_output(csv_file):\n",
    "    divided_data = {}\n",
    "    for data_col in csv_file:\n",
    "        class_value = data_col[-1]\n",
    "        if class_value not in divided_data:\n",
    "            divided_data[class_value] = []\n",
    "        divided_data[class_value].append(data_col)\n",
    "    new = {}\n",
    "    for class_value, rows in divided_data.items():\n",
    "        new[class_value] = mean_std_cal(rows)\n",
    "    return new\n",
    "\n",
    "# Calculate the probability of a value given a Gaussian distribution\n",
    "def prob_cal(x, mean, standard_deviation):\n",
    "    if standard_deviation == 0:\n",
    "        return 0\n",
    "    else:\n",
    "        exponent = exp(-((x - mean) ** 2 / (2 * standard_deviation ** 2)))\n",
    "        return (1 / (sqrt(2 * pi) * standard_deviation)) * exponent\n",
    "\n",
    "# Calculate the probabilities for each class for a given row\n",
    "def calculate_class_probabilities(f_out, input_row):\n",
    "    total_num_rows = 0\n",
    "    for summary in f_out.values():\n",
    "        total_num_rows += summary[0][2]\n",
    "    class_probabilities = {}\n",
    "    for class_label, class_summary in f_out.items():\n",
    "        class_count = class_summary[0][2]\n",
    "        class_prior_prob = class_count / total_num_rows\n",
    "        feature_probs = []\n",
    "        for i, feature_summary in enumerate(class_summary):\n",
    "            feature_mean, feature_standard_deviation, feature_count = feature_summary\n",
    "            feature_prob = prob_cal(input_row[i], feature_mean, feature_standard_deviation)\n",
    "            feature_probs.append(feature_prob)\n",
    "        class_posterior_prob = class_prior_prob\n",
    "        for feature_prob in feature_probs:\n",
    "            class_posterior_prob *= feature_prob\n",
    "        class_probabilities[class_label] = class_posterior_prob\n",
    "    return class_probabilities\n",
    "\n",
    "\n",
    "def product(data):\n",
    "    result = 1\n",
    "    for number in data:\n",
    "        result *= number\n",
    "    return result\n",
    "\n",
    "# Calculate accuracy percentage\n",
    "def acc_percent(actual_values, predicted_values):\n",
    "    number_of_correct_predictions = 0\n",
    "    number_of_instances = len(actual_values)\n",
    "    for i in range(number_of_instances):\n",
    "        if actual_values[i] == predicted_values[i]:\n",
    "            number_of_correct_predictions += 1\n",
    "    accuracy = number_of_correct_predictions / float(number_of_instances) * 100.0\n",
    "    return accuracy\n",
    "\n",
    "\n",
    "# Split a csv_file into k folds\n",
    "def cross_validation_split(data, num_folds):\n",
    "    data_splits = []\n",
    "    fold_size = len(data) // num_folds\n",
    "    data_copy = data[:]\n",
    "    for i in range(num_folds):\n",
    "        fold = []\n",
    "        while len(fold) < fold_size:\n",
    "            index = randrange(len(data_copy))\n",
    "            instance = data_copy.pop(index)\n",
    "            fold.append(instance)\n",
    "        data_splits.append(fold)\n",
    "\n",
    "    # Handle any remaining instances\n",
    "    for i in range(len(data_copy)):\n",
    "        index = randrange(len(data_splits))\n",
    "        data_splits[index].append(data_copy[i])\n",
    "    \n",
    "    return data_splits\n",
    "\n",
    "\n",
    "# Evaluate an algorithm using a cross validation split\n",
    "def evaluate_algorithm(csv_file, algorithm, n_folds, *args):\n",
    "\tfolds = cross_validation_split(csv_file, n_folds)\n",
    "\tacc_values = list()\n",
    "\tfor fold in folds:\n",
    "\t\ttrain_set = list(folds)\n",
    "\t\ttrain_set.remove(fold)\n",
    "\t\ttrain_set = sum(train_set, [])\n",
    "\t\ttest_set = list()\n",
    "\t\tfor row in fold:\n",
    "\t\t\trow_copy = list(row)\n",
    "\t\t\ttest_set.append(row_copy)\n",
    "\t\t\trow_copy[-1] = None\n",
    "\t\tpredicted = algorithm(train_set, test_set, *args)\n",
    "\t\tactual = [row[-1] for row in fold]\n",
    "\t\taccuracy = acc_percent(actual, predicted)\n",
    "\t\tacc_values.append(accuracy)\n",
    "\treturn acc_values\n",
    "\n",
    "# Define a function to predict the class for a given ro\n",
    "def predict_class(f_out, row):\n",
    "    probabilities = calculate_class_probabilities(f_out, row)\n",
    "    best_label = max(probabilities, key=probabilities.get)\n",
    "    return best_label\n",
    "\n",
    "# Define the Naive Bayes algorithm\n",
    "def naive_bayes(train_data, test_data):\n",
    "    f_out = dict_output(train_data)\n",
    "    predictions = []\n",
    "    for row in test_data:\n",
    "        output = predict_class(f_out, row)\n",
    "        predictions.append(output)\n",
    "    return predictions\n",
    "\n",
    "\n"
   ]
  },
  {
   "cell_type": "code",
   "execution_count": 26,
   "metadata": {
    "colab": {
     "base_uri": "https://localhost:8080/"
    },
    "id": "eM3EcWwlfJCJ",
    "outputId": "f3a26d2b-e6a7-4ec6-e3d9-31b5295770a1"
   },
   "outputs": [
    {
     "name": "stdout",
     "output_type": "stream",
     "text": [
      "{1: 0.0001111184925657597, 2: 6.209708939565077e-05, 3: 3.366112328536306e-06}\n",
      "{0: 7.840489544239446e-05, 1: 5.745169873566143e-09, 3: 0.0, 2: 2.204974735604812e-21}\n",
      "{0: 5.792372041181512e-05, 1: 2.971286663923991e-05}\n",
      "Score Values: [61.53846153846154, 84.61538461538461, 57.14285714285714, 92.85714285714286, 92.3076923076923, 69.23076923076923, 38.46153846153847, 76.92307692307693, 92.3076923076923, 61.53846153846154]\n",
      "Mean Accuracy: 72.692%\n",
      "Score Values: [77.45664739884393, 78.48837209302324, 84.39306358381504, 81.3953488372093, 79.1907514450867, 82.65895953757226, 77.14285714285715, 76.878612716763, 81.3953488372093, 82.55813953488372]\n",
      "Mean Accuracy: 80.156%\n",
      "Score Values: [71.42857142857143, 77.77777777777779, 70.37037037037037, 82.75862068965517, 74.07407407407408, 79.3103448275862, 66.66666666666666, 62.96296296296296, 71.42857142857143, 71.42857142857143]\n",
      "Mean Accuracy: 72.692%\n"
     ]
    }
   ],
   "source": [
    "\n",
    "for i in [hayes_roth_data,car_data,breast_cancer_data]:\n",
    "  i=col_to_int(i)\n",
    "\n",
    "breast_cancer_data = class_to_last(breast_cancer_data)\n",
    "\n",
    "for i in [hayes_roth_data,car_data,breast_cancer_data]:\n",
    "  f_out = dict_output(i)\n",
    "  #print(f_out)\n",
    "  probabilities = calculate_class_probabilities(f_out, i[0])\n",
    "  print(probabilities)\n",
    "n_folds=10\n",
    "\n",
    "acc_values_data1 = evaluate_algorithm(hayes_roth_data, naive_bayes, n_folds)\n",
    "acc_values_data2 = evaluate_algorithm(car_data, naive_bayes, n_folds)  \n",
    "acc_values_data3 = evaluate_algorithm(breast_cancer_data, naive_bayes, n_folds)  \n",
    "  #print(i)\n",
    "print('Score Values: %s' % acc_values_data1)\n",
    "print('Mean Accuracy: %.3f%%' % (sum(acc_values_data1)/float(len(acc_values_data1))))\n",
    "\n",
    "print('Score Values: %s' % acc_values_data2)\n",
    "print('Mean Accuracy: %.3f%%' % (sum(acc_values_data2)/float(len(acc_values_data2))))\n",
    "\n",
    "print('Score Values: %s' % acc_values_data3)\n",
    "print('Mean Accuracy: %.3f%%' % (sum(acc_values_data1)/float(len(acc_values_data3))))"
   ]
  },
  {
   "cell_type": "code",
   "execution_count": 27,
   "metadata": {
    "colab": {
     "base_uri": "https://localhost:8080/",
     "height": 327
    },
    "id": "EmgozaS41u3q",
    "outputId": "682f8165-81b7-4f28-cac0-c6276ebd070f"
   },
   "outputs": [
    {
     "data": {
      "text/plain": [
       "<BarContainer object of 10 artists>"
      ]
     },
     "execution_count": 27,
     "metadata": {},
     "output_type": "execute_result"
    },
    {
     "data": {
      "image/png": "[encoded data removed]",
      "text/plain": [
       "<Figure size 640x480 with 1 Axes>"
      ]
     },
     "metadata": {},
     "output_type": "display_data"
    }
   ],
   "source": [
    "import matplotlib.pyplot as plt\n",
    "folds_list = [\"1\",\"2\",\"3\",\"4\",\"5\",\"6\",\"7\",\"8\",\"9\",\"10\"]\n",
    "plt.title(\"Accuracy Scores for Naive Bayes for Hayes Roth Dataset\\n\")\n",
    "plt.xlabel(\"Number of Folds\")\n",
    "plt.ylabel(\"Accuracy in %\")\n",
    "plt.bar(folds_list, acc_values_data1,color='red')"
   ]
  },
  {
   "cell_type": "code",
   "execution_count": 28,
   "metadata": {
    "colab": {
     "base_uri": "https://localhost:8080/",
     "height": 327
    },
    "id": "Dn2NdeUqGJtf",
    "outputId": "010fa2f9-342f-4bb3-9337-513193f0f58c"
   },
   "outputs": [
    {
     "data": {
      "text/plain": [
       "<BarContainer object of 10 artists>"
      ]
     },
     "execution_count": 28,
     "metadata": {},
     "output_type": "execute_result"
    },
    {
     "data": {
      "image/png": "[encoded data removed]",
      "text/plain": [
       "<Figure size 640x480 with 1 Axes>"
      ]
     },
     "metadata": {},
     "output_type": "display_data"
    }
   ],
   "source": [
    "import matplotlib.pyplot as plt\n",
    "\n",
    "plt.title(\"Accuracy Scores for Naive Bayes for Car Dataset\\n\")\n",
    "plt.xlabel(\"Number of Folds\")\n",
    "plt.ylabel(\"Accuracy in %\")\n",
    "plt.bar(folds_list, acc_values_data2,color='green')"
   ]
  },
  {
   "cell_type": "code",
   "execution_count": 29,
   "metadata": {
    "colab": {
     "base_uri": "https://localhost:8080/",
     "height": 327
    },
    "id": "kKVsJ0SB5w2J",
    "outputId": "2eb32555-af73-40f4-e100-9ac3e8479c2f"
   },
   "outputs": [
    {
     "data": {
      "text/plain": [
       "<BarContainer object of 10 artists>"
      ]
     },
     "execution_count": 29,
     "metadata": {},
     "output_type": "execute_result"
    },
    {
     "data": {
      "image/png": "[encoded data removed]",
      "text/plain": [
       "<Figure size 640x480 with 1 Axes>"
      ]
     },
     "metadata": {},
     "output_type": "display_data"
    }
   ],
   "source": [
    "import matplotlib.pyplot as plt\n",
    "\n",
    "plt.title(\"Accuracy Scores for Naive Bayes for Breast-cancer Dataset\\n\")\n",
    "plt.xlabel(\"Number of Folds\")\n",
    "plt.ylabel(\"Accuracy in %\")\n",
    "plt.bar(folds_list, acc_values_data3,color='black')"
   ]
  },
  {
   "cell_type": "code",
   "execution_count": 30,
   "metadata": {
    "id": "fQaGeXn36GbR"
   },
   "outputs": [],
   "source": [
    "cancer_dataset_weka = [75.86,86.20,86.20,72.41,68.96,72.41,75.00,67.85,71.42,71.42]\n",
    "car_dataset_weka = [79.19,84.39,86.12,81.50,76.87,80.92,83.23,74.56,84.30,80.81]\n",
    "hayes_roth_dataset_weka = [71.42,85.71,84.61,84.61,69.23,76.92,69.23,84.61,92.30,84.61]"
   ]
  },
  {
   "cell_type": "code",
   "execution_count": null,
   "metadata": {},
   "outputs": [],
   "source": []
  },
  {
   "cell_type": "code",
   "execution_count": null,
   "metadata": {},
   "outputs": [],
   "source": []
  },
  {
   "cell_type": "code",
   "execution_count": null,
   "metadata": {},
   "outputs": [],
   "source": []
  }
 ],
 "metadata": {
  "colab": {
   "provenance": []
  },
  "kernelspec": {
   "display_name": "Python 3 (ipykernel)",
   "language": "python",
   "name": "python3"
  },
  "language_info": {
   "codemirror_mode": {
    "name": "ipython",
    "version": 3
   },
   "file_extension": ".py",
   "mimetype": "text/x-python",
   "name": "python",
   "nbconvert_exporter": "python",
   "pygments_lexer": "ipython3",
   "version": "3.12.3"
  }
 },
 "nbformat": 4,
 "nbformat_minor": 4
}
